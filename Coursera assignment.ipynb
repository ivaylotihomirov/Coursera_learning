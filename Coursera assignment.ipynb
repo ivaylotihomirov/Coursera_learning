{
  "metadata": {
    "kernelspec": {
      "name": "python",
      "display_name": "Python (Pyodide)",
      "language": "python"
    },
    "language_info": {
      "codemirror_mode": {
        "name": "python",
        "version": 3
      },
      "file_extension": ".py",
      "mimetype": "text/x-python",
      "name": "python",
      "nbconvert_exporter": "python",
      "pygments_lexer": "ipython3",
      "version": "3.8"
    }
  },
  "nbformat_minor": 4,
  "nbformat": 4,
  "cells": [
    {
      "cell_type": "markdown",
      "source": "# Markdown page",
      "metadata": {}
    },
    {
      "cell_type": "markdown",
      "source": "Hi, this is Ivaylo - this is just an introduction",
      "metadata": {}
    },
    {
      "cell_type": "markdown",
      "source": "The languages we covered so far (at least in more details) are:\n- Python\n- R",
      "metadata": {}
    },
    {
      "cell_type": "markdown",
      "source": "Some Python libraries are:\n- NumPy\n- Pandas\n- Keras\n- TensorFlow",
      "metadata": {}
    },
    {
      "cell_type": "markdown",
      "source": "Some DS tools are:\n|tool |what is it used for?|\n|-----|--------------------|\n|Pandas|data cleaning, manipulation, analysis, and feature engineering|\n|Seaborn|data visualization library|\n|Scikit-learn|machine learning",
      "metadata": {}
    },
    {
      "cell_type": "markdown",
      "source": "Some arithmetic expression examples are:",
      "metadata": {}
    },
    {
      "cell_type": "code",
      "source": "(2+2)*3",
      "metadata": {
        "trusted": true
      },
      "outputs": [
        {
          "execution_count": 4,
          "output_type": "execute_result",
          "data": {
            "text/plain": "12"
          },
          "metadata": {}
        }
      ],
      "execution_count": 4
    },
    {
      "cell_type": "markdown",
      "source": "Converting minutes to hours:",
      "metadata": {}
    },
    {
      "cell_type": "code",
      "source": "x = 60\ny = x / 60\nprint(y)",
      "metadata": {
        "trusted": true
      },
      "outputs": [
        {
          "name": "stdout",
          "text": "1.0\n",
          "output_type": "stream"
        }
      ],
      "execution_count": 8
    },
    {
      "cell_type": "markdown",
      "source": "Some learning objectives are:\n- learning Python\n- learning Data Science",
      "metadata": {}
    },
    {
      "cell_type": "markdown",
      "source": "The author's name is: **Ivaylo Ivanov**",
      "metadata": {}
    },
    {
      "cell_type": "code",
      "source": "",
      "metadata": {
        "trusted": true
      },
      "outputs": [],
      "execution_count": null
    }
  ]
}